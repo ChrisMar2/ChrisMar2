{
  "nbformat": 4,
  "nbformat_minor": 0,
  "metadata": {
    "colab": {
      "provenance": [],
      "authorship_tag": "ABX9TyPvxDC+LT0wUoNVVcNGs7Sw",
      "include_colab_link": true
    },
    "kernelspec": {
      "name": "python3",
      "display_name": "Python 3"
    },
    "language_info": {
      "name": "python"
    },
    "gpuClass": "standard"
  },
  "cells": [
    {
      "cell_type": "markdown",
      "metadata": {
        "id": "view-in-github",
        "colab_type": "text"
      },
      "source": [
        "<a href=\"https://colab.research.google.com/github/ChrisMar2/ChrisMar2/blob/main/FSDS_CPU_V_GPU.ipynb\" target=\"_parent\"><img src=\"https://colab.research.google.com/assets/colab-badge.svg\" alt=\"Open In Colab\"/></a>"
      ]
    },
    {
      "cell_type": "code",
      "execution_count": 3,
      "metadata": {
        "colab": {
          "base_uri": "https://localhost:8080/"
        },
        "id": "daRPlscDAuLr",
        "outputId": "6f91feb0-0af1-4fa8-c683-472ac13d6df0"
      },
      "outputs": [
        {
          "output_type": "stream",
          "name": "stdout",
          "text": [
            " Found GPU device as at : /device:GPU:0\n"
          ]
        }
      ],
      "source": [
        "# edit notebook settings -  select hardware accelerater -  change to GPU\n",
        "import tensorflow as tf\n",
        "device_name = tf.test.gpu_device_name()\n",
        "if device_name != '/device:GPU:0':\n",
        "   raise SystemError('GPU device not found')\n",
        "else:\n",
        "  print(' Found GPU device as at : {}'.format(device_name))"
      ]
    },
    {
      "cell_type": "code",
      "source": [
        "\n",
        "#title\n",
        "import tensorflow as tf\n",
        "import timeit\n",
        "\n",
        "device_name = tf.test.gpu_device_name()\n",
        "if device_name != '/device:GPU:0':\n",
        "   raise SystemError('GPU device not found')\n",
        "#else:\n",
        " # print(' Found GPU device as at : {}'.format(device_name))\n",
        "\n",
        "\n",
        "def cpu():\n",
        "  with tf.device('/cpu:0'):\n",
        "    random_image_cpu = tf.random.normal((100, 100, 100, 3))\n",
        "    net_cpu = tf.keras.layers.Conv2D(32, 7)(random_image_cpu)\n",
        "    return tf.math.reduce_sum(net_cpu)\n",
        "\n",
        "def gpu():\n",
        "  with tf.device('/device:GPU:0'):\n",
        "    random_image_gpu = tf.random.normal((100, 100, 100, 3))\n",
        "    net_gpu = tf.keras.layers.Conv2D(32, 7)(random_image_gpu)\n",
        "    return tf.math.reduce_sum(net_gpu)\n",
        "\n",
        "    # we run each op once to warm up ;  see htts://stackoverflow.com/a/45067900\n",
        "\n",
        "  cpu()\n",
        "  gpu()\n",
        "\n",
        "  # run the op seVeral times\n",
        "\n",
        "  print(' Timme (s) to consolve 32x7x7x3 filter over random 100x100x100x3 images '\n",
        "  ' (batch x height x width x channel ). Sum of tens runs.')\n",
        "  print ('CPU (s):')\n",
        "  cpu_time = timeit.timeit('cpu()' ,  number=10, setup=\"from__main__import cpu\")\n",
        "  print(cpu_time)\n",
        "\n",
        "  print('GPU (s):')\n",
        "  gpu_time = timeit.timeit('gpu()' ,  number=10 , setup=\"from__main__import gpu\")\n",
        "  print(gpu_time)\n",
        "\n",
        "print('GPU Speedup over CPU: {}x'.format(int(cpu_time/gpu_time)))\n",
        "\n"
      ],
      "metadata": {
        "colab": {
          "base_uri": "https://localhost:8080/",
          "height": 217
        },
        "id": "HMwkU8dgKC8G",
        "outputId": "bbfd97d3-7dbb-44ab-e5bb-57c9ea7bf605"
      },
      "execution_count": 8,
      "outputs": [
        {
          "output_type": "error",
          "ename": "NameError",
          "evalue": "ignored",
          "traceback": [
            "\u001b[0;31m---------------------------------------------------------------------------\u001b[0m",
            "\u001b[0;31mNameError\u001b[0m                                 Traceback (most recent call last)",
            "\u001b[0;32m<ipython-input-8-725f85143f9f>\u001b[0m in \u001b[0;36m<module>\u001b[0;34m\u001b[0m\n\u001b[1;32m     39\u001b[0m   \u001b[0mprint\u001b[0m\u001b[0;34m(\u001b[0m\u001b[0mgpu_time\u001b[0m\u001b[0;34m)\u001b[0m\u001b[0;34m\u001b[0m\u001b[0;34m\u001b[0m\u001b[0m\n\u001b[1;32m     40\u001b[0m \u001b[0;34m\u001b[0m\u001b[0m\n\u001b[0;32m---> 41\u001b[0;31m \u001b[0mprint\u001b[0m\u001b[0;34m(\u001b[0m\u001b[0;34m'GPU Speedup over CPU: {}x'\u001b[0m\u001b[0;34m.\u001b[0m\u001b[0mformat\u001b[0m\u001b[0;34m(\u001b[0m\u001b[0mint\u001b[0m\u001b[0;34m(\u001b[0m\u001b[0mcpu_time\u001b[0m\u001b[0;34m/\u001b[0m\u001b[0mgpu_time\u001b[0m\u001b[0;34m)\u001b[0m\u001b[0;34m)\u001b[0m\u001b[0;34m)\u001b[0m\u001b[0;34m\u001b[0m\u001b[0;34m\u001b[0m\u001b[0m\n\u001b[0m\u001b[1;32m     42\u001b[0m \u001b[0;34m\u001b[0m\u001b[0m\n",
            "\u001b[0;31mNameError\u001b[0m: name 'cpu_time' is not defined"
          ]
        }
      ]
    },
    {
      "cell_type": "code",
      "source": [
        "#title\n",
        "import tensorflow as tf\n",
        "import timeit\n",
        "\n",
        "device_name = tf.test.gpu_device_name()\n",
        "if device_name != '/device:GPU:0':\n",
        "   raise SystemError('GPU device not found')\n",
        "#else:\n",
        " # print(' Found GPU device as at : {}'.format(device_name))\n",
        "\n",
        "\n",
        "def cpu():\n",
        "  with tf.device('/cpu:0'):\n",
        "    random_image_cpu = tf.random.normal((100, 100, 100, 3))\n",
        "    net_cpu = tf.keras.layers.Conv2D(32, 7)(random_image_cpu)\n",
        "    return tf.math.reduce_sum(net_cpu)\n",
        "\n",
        "def gpu():\n",
        "  with tf.device('/device:GPU:0'):\n",
        "    random_image_gpu = tf.random.normal((100, 100, 100, 3))\n",
        "    net_gpu = tf.keras.layers.Conv2D(32, 7)(random_image_gpu)\n",
        "    return tf.math.reduce_sum(net_gpu)\n",
        "\n",
        "    # we run each op once to warm up ;  see htts://stackoverflow.com/a/45067900\n",
        "\n",
        "  cpu()\n",
        "  gpu()\n",
        "\n",
        "  # run the op seVeral times\n",
        "\n",
        "print(' Time (s) to consolve 32x7x7x3 filter over random 100x100x100x3 images '\n",
        "  ' (batch x height x width x channel ). Sum of tens runs.')\n",
        "\n",
        "print('CPU (s):')\n",
        "cpu_time = timeit.timeit('cpu()',  number=10 , setup=\"from __main__ import cpu\")\n",
        "print(cpu_time)\n",
        "\n",
        "print('GPU (s):')\n",
        "gpu_time = timeit.timeit('gpu()',  number=10 , setup=\"from __main__ import gpu\")\n",
        "print(gpu_time)\n",
        "\n",
        "\n",
        "print('GPU Speedup over CPU: {}x'.format(int(cpu_time/gpu_time)))"
      ],
      "metadata": {
        "colab": {
          "base_uri": "https://localhost:8080/"
        },
        "id": "arDK3YCISI2o",
        "outputId": "405f6f9b-c7da-4df7-98d6-46d330d13b7c"
      },
      "execution_count": 20,
      "outputs": [
        {
          "output_type": "stream",
          "name": "stdout",
          "text": [
            " Time (s) to consolve 32x7x7x3 filter over random 100x100x100x3 images  (batch x height x width x channel ). Sum of tens runs.\n",
            "CPU (s):\n",
            "3.09547421499974\n",
            "GPU (s):\n",
            "0.03620812200006185\n",
            "GPU Speedup over CPU: 85x\n"
          ]
        }
      ]
    }
  ]
}